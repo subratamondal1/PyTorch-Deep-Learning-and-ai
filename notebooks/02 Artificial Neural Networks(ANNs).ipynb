{
 "cells": [
  {
   "cell_type": "markdown",
   "id": "5154c626-7ccd-40ea-9853-3a530305a4ef",
   "metadata": {},
   "source": [
    "# Artificial Neural Networks (ANNs)\n",
    "---"
   ]
  },
  {
   "cell_type": "markdown",
   "id": "22cbcac8-d0a0-4beb-b111-f8f2e63fca39",
   "metadata": {},
   "source": [
    "## Introduction"
   ]
  },
  {
   "cell_type": "markdown",
   "id": "2d53975a-f54e-4d1b-9986-04843c055c52",
   "metadata": {},
   "source": [
    "Artificial neural networks are computer models that are **inspired** by the **structure** and **function** of the **biological neural networks** of **human brain**. They are composed of many interconnected units, called **`neurons or nodes`**, that can process and transmit information. They can learn from data and perform tasks such as `pattern recognition, clustering, and prediction`.\n",
    "\n",
    "The basic architecture of an artificial neural network consists of three types of layers: **input, hidden,** and **output**. \n",
    "- The **input layer** receives data from the external sources, such as images, texts, or sounds.\n",
    "- The **hidden layer** transforms the input data into a more meaningful representation, using mathematical operations such as matrix multiplication, addition, and activation functions.\n",
    "- The **output layer** produces the final result of the network, such as a class label, a score, or a probability.\n",
    "\n",
    "The connections between the units in the network have **weights**, which determine how much each unit influences another unit. The weights are initially assigned randomly, but they are updated during the learning process, using algorithms such as gradient descent or backpropagation. The learning process involves adjusting the weights to minimize the error between the network's output and the desired output, using a **loss (cost) function**.\n",
    "\n",
    "- **large weights** means important feature.\n",
    "- **small weights** means not important feature.\n",
    "\n",
    "Artificial neural networks can have different architectures, depending on the task and the data. For example, \n",
    "- **Convolutional neural networks (CNNs)** are designed for processing images, using filters that can detect features such as edges, shapes, or colors.\n",
    "\n",
    "- **Recurrent neural networks (RNNs)** are designed for processing sequential data, such as texts or speech, using loops that can store information from previous time steps. There are also other types of neural networks, such as feedforward, radial basis function, self-organizing map, and generative adversarial networks."
   ]
  },
  {
   "cell_type": "markdown",
   "id": "7b760d07-4825-4fbb-b949-06508fa1f51c",
   "metadata": {},
   "source": [
    "In **Feedforward Neural Network:** the signal goes from input to output (left to right)."
   ]
  },
  {
   "cell_type": "markdown",
   "id": "acbf7143-1ca7-4e03-8ba9-b067cb8d053e",
   "metadata": {},
   "source": [
    "## Forward Propagation"
   ]
  },
  {
   "cell_type": "markdown",
   "id": "9883000b-e7f7-4a87-91d7-9c2ebda1ecea",
   "metadata": {},
   "source": [
    "Remember that a Neural Network model is for **making prediction** and we do this by going in the forward direction."
   ]
  },
  {
   "cell_type": "markdown",
   "id": "0c63e035-0bfd-45b1-b5b8-851fb389ec43",
   "metadata": {},
   "source": [
    "### 2 important ways to extend the single neuron\n",
    "1. **Wide:** this means increasing the number of neurons in the same layer, which would allow the network to **learn more features or patterns** from the input data. A wider network can have more expressive power and capacity, but it may also be more prone to overfitting or redundancy .\n",
    "\n",
    "2. **Deep:** this means increasing the number of layers in the network, which would allow the network to **learn more abstract or complex representations** from the input data. A deeper network can have more hierarchical and compositional structure, but it may also be more difficult to train or optimize .\n",
    "\n",
    "### 2 important ways to increase the complexity  of the problem\n",
    "1. **Features**  this means increasing the number of input features (columns).\n",
    "2. **Non-Linear**  this means transform the pattern to non-linear."
   ]
  },
  {
   "cell_type": "code",
   "execution_count": null,
   "id": "6b61a3e5-a0f9-42b3-a8db-5f6165132e3a",
   "metadata": {},
   "outputs": [],
   "source": []
  }
 ],
 "metadata": {
  "kernelspec": {
   "display_name": "Python 3 (ipykernel)",
   "language": "python",
   "name": "python3"
  },
  "language_info": {
   "codemirror_mode": {
    "name": "ipython",
    "version": 3
   },
   "file_extension": ".py",
   "mimetype": "text/x-python",
   "name": "python",
   "nbconvert_exporter": "python",
   "pygments_lexer": "ipython3",
   "version": "3.11.6"
  }
 },
 "nbformat": 4,
 "nbformat_minor": 5
}
